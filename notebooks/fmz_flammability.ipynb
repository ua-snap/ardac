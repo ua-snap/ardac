{
 "cells": [
  {
   "cell_type": "code",
   "execution_count": null,
   "metadata": {},
   "outputs": [],
   "source": [
    "from ardac_utils import *\n",
    "import matplotlib.pyplot as plt"
   ]
  },
  {
   "cell_type": "code",
   "execution_count": null,
   "metadata": {},
   "outputs": [],
   "source": [
    "#use ardac helper functions to grab some fire zone polygons and output a geodataframe in 3338\n",
    "#and get flammability data for those polygons\n",
    "fz_gdf = get_area_gdf_by_category(\"fire_zones\", 3338)\n",
    "fz_data = get_data_for_gdf_polygons(fz_gdf, \"flammability\")"
   ]
  },
  {
   "cell_type": "code",
   "execution_count": null,
   "metadata": {},
   "outputs": [],
   "source": [
    "#check out the data\n",
    "fz_gdf.plot()"
   ]
  },
  {
   "cell_type": "code",
   "execution_count": null,
   "metadata": {},
   "outputs": [],
   "source": [
    "fz_data.head()"
   ]
  },
  {
   "cell_type": "code",
   "execution_count": null,
   "metadata": {},
   "outputs": [],
   "source": [
    "#subset the data for plotting:\n",
    "#include just the 5-model avg, and just RCP 8.5\n",
    "plot_subset = fz_data[(fz_data['model'] == '5modelAvg') & (fz_data['scenario'] == 'rcp85')]\n",
    "plot_subset.head()"
   ]
  },
  {
   "cell_type": "code",
   "execution_count": null,
   "metadata": {},
   "outputs": [],
   "source": [
    "#merge with the geodataframe using the area id\n",
    "plot_gdf = fz_gdf.merge(plot_subset, how='left', on='id')"
   ]
  },
  {
   "cell_type": "code",
   "execution_count": null,
   "metadata": {},
   "outputs": [],
   "source": [
    "#plot\n",
    "fig, (ax1, ax2, ax3) = plt.subplots(3,1, figsize=(20,14))\n",
    "\n",
    "plot_gdf.boundary.plot(color='black', linewidth=0.1, ax=ax1)\n",
    "plot_gdf[plot_gdf['date_range'] == '2010-2039'].plot(column='mean', cmap='Reds', ax=ax1)\n",
    "\n",
    "plot_gdf.boundary.plot(color='black', linewidth=0.1, ax=ax2)\n",
    "plot_gdf[plot_gdf['date_range'] == '2040-2069'].plot(column='mean', cmap='Reds', ax=ax2)\n",
    "\n",
    "plot_gdf.boundary.plot(color='black', linewidth=0.1, ax=ax3)\n",
    "plot_gdf[plot_gdf['date_range'] == '2070-2099'].plot(column='mean', cmap='Reds', ax=ax3)\n",
    "\n",
    "ax1.title.set_text('Flammability by Fire Mgmt Zone: 2010-2039')\n",
    "ax2.title.set_text('Flammability by Fire Mgmt Zone: 2040-2069')\n",
    "ax3.title.set_text('Flammability by Fire Mgmt Zone: 2070-2099')\n",
    "\n",
    "fig.tight_layout()\n",
    "ax1.axes.get_xaxis().set_visible(False)\n",
    "ax1.axes.get_yaxis().set_visible(False)\n",
    "ax2.axes.get_xaxis().set_visible(False)\n",
    "ax2.axes.get_yaxis().set_visible(False)\n",
    "ax3.axes.get_xaxis().set_visible(False)\n",
    "ax3.axes.get_yaxis().set_visible(False)"
   ]
  },
  {
   "cell_type": "code",
   "execution_count": null,
   "metadata": {},
   "outputs": [],
   "source": []
  }
 ],
 "metadata": {
  "kernelspec": {
   "display_name": "atmospheric_rivers",
   "language": "python",
   "name": "python3"
  },
  "language_info": {
   "codemirror_mode": {
    "name": "ipython",
    "version": 3
   },
   "file_extension": ".py",
   "mimetype": "text/x-python",
   "name": "python",
   "nbconvert_exporter": "python",
   "pygments_lexer": "ipython3",
   "version": "3.9.18"
  }
 },
 "nbformat": 4,
 "nbformat_minor": 2
}
