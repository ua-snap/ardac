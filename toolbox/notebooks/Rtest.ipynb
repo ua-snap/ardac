{
 "cells": [
  {
   "cell_type": "code",
   "execution_count": null,
   "metadata": {
    "vscode": {
     "languageId": "r"
    }
   },
   "outputs": [],
   "source": [
    "# I ran this on my local machine\n",
    "# set up is basically:\n",
    "\n",
    "# In your python conda env:\n",
    "# conda install jupyter_client\n",
    "\n",
    "# In your R terminal:\n",
    "# install.packages(\"IRkernel\")\n",
    "# install.packages(\"reticulate\")\n",
    "\n",
    "#In your terminal:\n",
    "# IRkernel::installspec() \n",
    "\n",
    "\n",
    "#then you _should_ be able to open a new notebook and access the R kernel from VS Code\n",
    "#you might have to manually install an extension if prompted\n"
   ]
  },
  {
   "cell_type": "code",
   "execution_count": 2,
   "metadata": {
    "vscode": {
     "languageId": "r"
    }
   },
   "outputs": [],
   "source": [
    "library(reticulate)\n",
    "use_condaenv(\"ardac-toolbox\")\n",
    "ardac_utils <- import(\"ardac_utils\")"
   ]
  },
  {
   "cell_type": "code",
   "execution_count": 3,
   "metadata": {
    "vscode": {
     "languageId": "r"
    }
   },
   "outputs": [],
   "source": [
    "result <- ardac_utils$get_point_gdf_by_category(\"communities\")"
   ]
  },
  {
   "cell_type": "code",
   "execution_count": 4,
   "metadata": {
    "vscode": {
     "languageId": "r"
    }
   },
   "outputs": [
    {
     "data": {
      "text/html": [
       "<style>\n",
       ".list-inline {list-style: none; margin:0; padding: 0}\n",
       ".list-inline>li {display: inline-block}\n",
       ".list-inline>li:not(:last-child)::after {content: \"\\00b7\"; padding: 0 .5ex}\n",
       "</style>\n",
       "<ol class=list-inline><li>'id'</li><li>'name'</li><li>'country'</li><li>'latitude'</li><li>'longitude'</li><li>'the_geom'</li></ol>\n"
      ],
      "text/latex": [
       "\\begin{enumerate*}\n",
       "\\item 'id'\n",
       "\\item 'name'\n",
       "\\item 'country'\n",
       "\\item 'latitude'\n",
       "\\item 'longitude'\n",
       "\\item 'the\\_geom'\n",
       "\\end{enumerate*}\n"
      ],
      "text/markdown": [
       "1. 'id'\n",
       "2. 'name'\n",
       "3. 'country'\n",
       "4. 'latitude'\n",
       "5. 'longitude'\n",
       "6. 'the_geom'\n",
       "\n",
       "\n"
      ],
      "text/plain": [
       "[1] \"id\"        \"name\"      \"country\"   \"latitude\"  \"longitude\" \"the_geom\" "
      ]
     },
     "metadata": {},
     "output_type": "display_data"
    }
   ],
   "source": [
    "colnames(result)"
   ]
  },
  {
   "cell_type": "code",
   "execution_count": 16,
   "metadata": {
    "vscode": {
     "languageId": "r"
    }
   },
   "outputs": [
    {
     "name": "stdout",
     "output_type": "stream",
     "text": [
      "[1] \"AK1\"\n",
      "[1] \"Afognak\"\n",
      "[1] \"US\"\n",
      "[1] 58.0078\n",
      "[1] -152.768\n",
      "<POINT (-154.17 56.946)>\n"
     ]
    }
   ],
   "source": [
    "print(result$id[1])\n",
    "print(result$name[1])\n",
    "print(result$country[1])\n",
    "print(result$latitude[[1]])\n",
    "print(result$longitude[[1]])\n",
    "print(result$the_geom[1])"
   ]
  }
 ],
 "metadata": {
  "kernelspec": {
   "display_name": "R",
   "language": "R",
   "name": "ir"
  },
  "language_info": {
   "codemirror_mode": "r",
   "file_extension": ".r",
   "mimetype": "text/x-r-source",
   "name": "R",
   "pygments_lexer": "r",
   "version": "4.3.2"
  }
 },
 "nbformat": 4,
 "nbformat_minor": 2
}
