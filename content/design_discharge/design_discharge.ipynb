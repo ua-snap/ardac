{
 "cells": [
  {
   "cell_type": "markdown",
   "id": "1ea35ca4-e66b-47f6-ac1a-60b5eeec5cd2",
   "metadata": {},
   "source": [
    "### Introduction to Jupyter Notebooks\n",
    "\n",
    "[Jupyter Notebooks](https://jupyter.org/) are a popular tool for interactive computing used by data professionals. Notebooks provide a versatile environment for writing and executing code, creating visualizations, and documenting your work.\n",
    "\n",
    "#### Running Individual Cells\n",
    "\n",
    "Jupyter Notebooks are organized into cells. Each cell can contain code or text. To run an individual code cell:\n",
    "\n",
    "1. Click on the cell you want to run. The cell will be highlighted.\n",
    "2. Press `Shift + Enter` on your keyboard, or click the \"Run\" button in the toolbar at the top. The code in the cell will execute, and any output (such as printed text or graphs) will be displayed immediately below the cell.\n",
    "3. You can run cells in any order, making it easy to experiment and iterate with your code. Note that the notebook here expects cells to be executed in order to produce the intended results.\n",
    "\n",
    "#### Running All Cells in Sequence\n",
    "\n",
    "To run all cells in the notebook in sequence:\n",
    "\n",
    "1. Go to the \"Cell\" menu at the top.\n",
    "2. Select \"Run All.\" This will execute all the cells in the notebook from top to bottom.\n",
    "3. Running all cells is useful when you want to ensure that your notebook runs correctly from start to finish.\n",
    "\n",
    "#### Downloading a Jupyter Notebook\n",
    "\n",
    "When you want to save a local copy of the notebook:\n",
    "\n",
    "1. Go to the \"File\" menu.\n",
    "2. Select \"Download\" - this will save your notebook in the native Jupyter Notebook format (**.ipynb**). and the notebook will be downloaded to your computer.\n"
   ]
  },
  {
   "cell_type": "code",
   "execution_count": null,
   "id": "1befcdc2-6b08-4fee-b8ae-e763b7903f33",
   "metadata": {},
   "outputs": [],
   "source": [
    "base_url = \"http://127.0.0.1:5000/\""
   ]
  },
  {
   "cell_type": "code",
   "execution_count": null,
   "id": "279f1ce2-d090-45c2-a95d-cc144ee93772",
   "metadata": {},
   "outputs": [],
   "source": [
    "latitude = 65.1\n",
    "longitude = -146.6"
   ]
  },
  {
   "cell_type": "code",
   "execution_count": null,
   "id": "1cff9594-6cd2-485c-9e7b-c09c44861fc0",
   "metadata": {},
   "outputs": [],
   "source": [
    "import micropip\n",
    "await micropip.install('pyodide-http')\n",
    "import pyodide_http\n",
    "pyodide_http.patch_all()"
   ]
  },
  {
   "cell_type": "code",
   "execution_count": null,
   "id": "232c31bc",
   "metadata": {
    "scrolled": true
   },
   "outputs": [],
   "source": [
    "import pandas as pd\n",
    "precip_df = pd.read_csv(f\"{base_url}precipitation/frequency/point/{latitude}/{longitude}?format=csv\", header=9)\n",
    "precip_df"
   ]
  },
  {
   "cell_type": "code",
   "execution_count": null,
   "id": "a255af8b",
   "metadata": {
    "scrolled": true
   },
   "outputs": [],
   "source": [
    "duration_hrs = {\n",
    "    \"60m\": 1,\n",
    "    \"2h\": 2,\n",
    "    \"3h\": 3,\n",
    "    \"6h\": 6,\n",
    "    \"12h\": 12,\n",
    "    \"24h\": 24,\n",
    "    \"2d\": 48,\n",
    "    \"3d\": 72,\n",
    "    \"4d\": 96,\n",
    "    \"7d\": 168,\n",
    "    \"10d\": 240,\n",
    "    \"20d\": 480,\n",
    "    \"30d\": 720,\n",
    "    \"45d\": 1080,\n",
    "    \"60d\": 1440,\n",
    "}"
   ]
  },
  {
   "cell_type": "code",
   "execution_count": null,
   "id": "2b93c2c2",
   "metadata": {
    "scrolled": true
   },
   "outputs": [],
   "source": [
    "def mm_to_inches(df, columns_to_convert):\n",
    "    \"\"\"\n",
    "    Convert precipitation amounts from millimeters (mm) to inches and replace the original columns in a DataFrame.\n",
    "\n",
    "    Args:\n",
    "        df (pd.DataFrame): DataFrame containing the precipitation columns.\n",
    "        columns_to_convert (list): column names to convert from mm to inches.\n",
    "\n",
    "    Returns:\n",
    "        pd.DataFrame: DataFrame with converted columns.\n",
    "    \"\"\"\n",
    "    for col in columns_to_convert:\n",
    "        df[col] = round(df[col] * 0.0393701, 3)  # 1 mm = 0.0393701 inches\n",
    "    \n",
    "    return df"
   ]
  },
  {
   "cell_type": "code",
   "execution_count": null,
   "id": "53ced026",
   "metadata": {
    "scrolled": true
   },
   "outputs": [],
   "source": [
    "def inches_to_inches_per_hour_intensity(df, columns_to_convert, tc):\n",
    "    \"\"\"\n",
    "    Normalize precipitation amounts to inches per hour based on the duration.\n",
    "    Args:\n",
    "        df (pd.DataFrame): DataFrame containing the precipitation columns.\n",
    "        columns_to_convert (list): columns to convert from inches to inches/hour.\n",
    "        tc (str): Time of concentration, effectively this is the \"duration\"\n",
    "\n",
    "    Returns:\n",
    "        pd.DataFrame: DataFrame with converted columns.\n",
    "    \"\"\"\n",
    "    for col in columns_to_convert:\n",
    "        df[col] = round(df[col] / duration_hrs[tc], 3)\n",
    "    \n",
    "    return df"
   ]
  },
  {
   "cell_type": "code",
   "execution_count": null,
   "id": "08e4ecd1",
   "metadata": {
    "tags": []
   },
   "outputs": [],
   "source": [
    "await micropip.install(\"ipywidgets\")\n",
    "import ipywidgets as widgets\n",
    "from IPython.display import display\n",
    "\n",
    "# define the input widgets\n",
    "return_interval_dropdown = widgets.Dropdown(\n",
    "    options=[2, 5, 10, 25, 50, 100, 200, 500, 1000],\n",
    "    value=100,\n",
    "    description=\"Return Interval (years):\",\n",
    "    style={\"description_width\": \"initial\"}\n",
    ")\n",
    "\n",
    "# dropdown widget for selecting time of concentration (tc)\n",
    "duration_hrs = {\n",
    "    \"60m\": 1,\n",
    "    \"2h\": 2,\n",
    "    \"3h\": 3,\n",
    "    \"6h\": 6,\n",
    "    \"12h\": 12,\n",
    "    \"24h\": 24,\n",
    "    \"2d\": 48,\n",
    "    \"3d\": 72,\n",
    "    \"4d\": 96,\n",
    "    \"7d\": 168,\n",
    "    \"10d\": 240,\n",
    "    \"20d\": 480,\n",
    "    \"30d\": 720,\n",
    "    \"45d\": 1080,\n",
    "    \"60d\": 1440,\n",
    "}\n",
    "tc_dropdown = widgets.Dropdown(\n",
    "    options=list(duration_hrs.keys()),\n",
    "    value=\"24h\",\n",
    "    description=\"Time of Concentration (duration)\",\n",
    "    style={\"description_width\": \"initial\"}\n",
    ")\n",
    "\n",
    "drainage_area_acres_slider = widgets.FloatSlider(\n",
    "    value=100.0, min=1.0, max=1000.0, step=1.0, description=\"Drainage Area (acres):\",\n",
    "    style={\"description_width\": \"initial\"}\n",
    ")\n",
    "c_runoff_coeff_slider = widgets.FloatSlider(\n",
    "    value=0.3, min=0.01, max=1.0, step=0.01, description=\"Runoff Coefficient (C):\",\n",
    "    style={\"description_width\": \"initial\"}\n",
    ")\n",
    "\n",
    "# output widget for displaying the result\n",
    "output = widgets.Output()\n",
    "output.layout.height = \"350px\"\n",
    "\n",
    "df = precip_df.copy()\n",
    "\n",
    "# define the function to compute and display the result\n",
    "def update_result(change):\n",
    "    with output:\n",
    "        output.clear_output()\n",
    "        \n",
    "        selected_tc = tc_dropdown.value\n",
    "        precip = df[(df.return_interval == return_interval_dropdown.value) & (df.duration == selected_tc)].copy()\n",
    "        precip = mm_to_inches(precip, [\"pf\", \"pf_lower\", \"pf_upper\"])\n",
    "        precip = inches_to_inches_per_hour_intensity(precip, [\"pf\", \"pf_lower\", \"pf_upper\"], selected_tc)\n",
    "        precip[f\"Design Q{return_interval_dropdown.value} (cfs)\"] = (c_runoff_coeff_slider.value * precip[\"pf\"] * drainage_area_acres_slider.value).round(1)\n",
    "        result_df = precip.set_index(\"era\").sort_index()[[\"model\", f\"Design Q{return_interval_dropdown.value} (cfs)\"]]\n",
    "        \n",
    "        # Display the resulting DataFrame\n",
    "        display(result_df)\n",
    "\n",
    "# attach change handler to the widgets\n",
    "return_interval_dropdown.observe(update_result, names=\"value\")\n",
    "tc_dropdown.observe(update_result, names=\"value\")\n",
    "drainage_area_acres_slider.observe(update_result, names=\"value\")\n",
    "c_runoff_coeff_slider.observe(update_result, names=\"value\")\n",
    "\n",
    "# display the input widgets and output\n",
    "display(return_interval_dropdown, tc_dropdown, drainage_area_acres_slider, c_runoff_coeff_slider)\n",
    "display(output)\n",
    "\n",
    "# display the initial result\n",
    "update_result(None)\n"
   ]
  },
  {
   "cell_type": "code",
   "execution_count": null,
   "id": "5f0c6d69",
   "metadata": {},
   "outputs": [],
   "source": []
  }
 ],
 "metadata": {
  "kernelspec": {
   "display_name": "Python 3 (ipykernel)",
   "language": "python",
   "name": "python3"
  },
  "language_info": {
   "codemirror_mode": {
    "name": "ipython",
    "version": 3
   },
   "file_extension": ".py",
   "mimetype": "text/x-python",
   "name": "python",
   "nbconvert_exporter": "python",
   "pygments_lexer": "ipython3",
   "version": "3.12.0"
  }
 },
 "nbformat": 4,
 "nbformat_minor": 5
}
