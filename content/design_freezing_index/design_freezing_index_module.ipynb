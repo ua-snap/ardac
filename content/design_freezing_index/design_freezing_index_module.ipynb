{
 "cells": [
  {
   "cell_type": "code",
   "execution_count": null,
   "id": "36c1eefb",
   "metadata": {},
   "outputs": [],
   "source": [
    "import piplite\n",
    "await piplite.install(\"ipywidgets\")\n",
    "\n",
    "import pandas as pd\n",
    "import ipywidgets as widgets\n",
    "from IPython.display import display\n",
    "from pyodide.http import open_url"
   ]
  },
  {
   "cell_type": "code",
   "execution_count": null,
   "id": "19e9e561",
   "metadata": {},
   "outputs": [],
   "source": [
    "base_url = \"http://development.earthmaps.io/\"\n",
    "latitude = 65.1\n",
    "longitude = -146.6"
   ]
  },
  {
   "cell_type": "code",
   "execution_count": null,
   "id": "5205d2c0",
   "metadata": {},
   "outputs": [],
   "source": [
    "# function to get SNAP freezing index data from the API\n",
    "def get_freezing_index(lat, lon):\n",
    "    fi_url = f\"{base_url}degree_days/freezing_index/{lat}/{lon}?format=csv\"\n",
    "    fi_df = url_contents_to_df(fi_url, 2)\n",
    "    return fi_df"
   ]
  },
  {
   "cell_type": "code",
   "execution_count": null,
   "id": "e9d73093",
   "metadata": {},
   "outputs": [],
   "source": [
    "# load the CSV data\n",
    "df = get_freezing_index(latitude, longitude)"
   ]
  },
  {
   "cell_type": "code",
   "execution_count": null,
   "id": "b9541864",
   "metadata": {},
   "outputs": [],
   "source": [
    "# function to compute design_index\n",
    "def compute_and_display_design_index(start_year, end_year, n_coldest_years):\n",
    "    \n",
    "    df_slice = df[(df[\"year\"] >= start_year) & (df[\"year\"] < end_year)]\n",
    "    design_index = round(df_slice.sort_values(\"value\", ascending=False).iloc[0:n_coldest_years][\"value\"].mean())\n",
    "    return design_index"
   ]
  },
  {
   "cell_type": "code",
   "execution_count": null,
   "id": "a068e0d3",
   "metadata": {},
   "outputs": [],
   "source": [
    "# create interactive widgets for input\n",
    "start_year_slider = widgets.IntSlider(\n",
    "    value=2030, min=1980, max=2099, step=1, description=\"Start Year:\"\n",
    ")\n",
    "end_year_slider = widgets.IntSlider(\n",
    "    value=2060, min=1981, max=2100, step=1, description=\"End Year:\"\n",
    ")\n",
    "n_coldest_years_slider = widgets.IntSlider(\n",
    "    value=3, min=1, max=10, step=1, description=\"Number of Coldest Years:\",\n",
    "    style={\"description_width\": \"initial\"}\n",
    ")\n",
    "\n",
    "# create an output widget for dynamic displaying of result\n",
    "output = widgets.Output()\n",
    "\n",
    "# function to handle widget changes\n",
    "def handle_slider_change(change):\n",
    "    with output:\n",
    "        output.clear_output()\n",
    "\n",
    "        if (\n",
    "            end_year_slider.value - start_year_slider.value\n",
    "            < n_coldest_years_slider.value\n",
    "        ):\n",
    "            start_year_slider.value = (\n",
    "                end_year_slider.value - n_coldest_years_slider.value\n",
    "            )\n",
    "            output.clear_output()\n",
    "        result = compute_and_display_design_index(\n",
    "            start_year_slider.value, end_year_slider.value, n_coldest_years_slider.value\n",
    "        )\n",
    "        print(f\"Design Freezing Index: {result} °F-days\")\n",
    "\n",
    "# attach the change handler to the sliders\n",
    "start_year_slider.observe(handle_slider_change, names=\"value\")\n",
    "end_year_slider.observe(handle_slider_change, names=\"value\")\n",
    "n_coldest_years_slider.observe(handle_slider_change, names=\"value\")\n",
    "\n",
    "handle_slider_change(None)\n",
    "\n",
    "# display the widgets with the title and initial result\n",
    "display(start_year_slider, end_year_slider, n_coldest_years_slider, output)\n",
    "initial_result = compute_and_display_design_index(\n",
    "    start_year_slider.value, end_year_slider.value, n_coldest_years_slider.value\n",
    ")\n"
   ]
  },
  {
   "cell_type": "code",
   "execution_count": null,
   "id": "462cf368",
   "metadata": {},
   "outputs": [],
   "source": []
  }
 ],
 "metadata": {
  "kernelspec": {
   "display_name": "Python 3 (ipykernel)",
   "language": "python",
   "name": "python3"
  },
  "language_info": {
   "codemirror_mode": {
    "name": "ipython",
    "version": 3
   },
   "file_extension": ".py",
   "mimetype": "text/x-python",
   "name": "python",
   "nbconvert_exporter": "python",
   "pygments_lexer": "ipython3",
   "version": "3.10.6"
  }
 },
 "nbformat": 4,
 "nbformat_minor": 5
}
