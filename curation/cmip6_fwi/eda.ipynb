{
 "cells": [
  {
   "cell_type": "code",
   "execution_count": 2,
   "metadata": {},
   "outputs": [],
   "source": [
    "import os\n",
    "from pathlib import Path"
   ]
  },
  {
   "cell_type": "code",
   "execution_count": 3,
   "metadata": {},
   "outputs": [],
   "source": [
    "data_dir = \"/beegfs/CMIP6/arctic-cmip6/cmip6_fwi\""
   ]
  },
  {
   "cell_type": "code",
   "execution_count": 1,
   "metadata": {},
   "outputs": [],
   "source": [
    "# model subdirectories contain one NC file per year, named like cffdrs_<model>_YYYY.nc\n",
    "# for each model subdirectory, list the NC files and check years\n",
    "# for each model subdirectory, print start year, end year, number of years, and true/false if there are any missing years in the sequence\n",
    "\n",
    "\n",
    "def check_model_years(model_dir):\n",
    "    model_path = Path(model_dir)\n",
    "    if not model_path.is_dir():\n",
    "        print(f\"{model_dir} is not a valid directory.\")\n",
    "        return\n",
    "\n",
    "    nc_files = sorted(model_path.glob(\"cffdrs_*.nc\"))\n",
    "    if not nc_files:\n",
    "        print(f\"No NC files found in {model_dir}.\")\n",
    "        return\n",
    "\n",
    "    years = []\n",
    "    for nc_file in nc_files:\n",
    "        filename = nc_file.name\n",
    "        try:\n",
    "            year = int(filename.split(\"_\")[-1].split(\".\")[0])\n",
    "            years.append(year)\n",
    "        except ValueError:\n",
    "            print(f\"Filename {filename} does not conform to expected format.\")\n",
    "\n",
    "    if not years:\n",
    "        print(f\"No valid years found in filenames in {model_dir}.\")\n",
    "        return\n",
    "\n",
    "    start_year = min(years)\n",
    "    end_year = max(years)\n",
    "    num_years = len(years)\n",
    "    expected_years = set(range(start_year, end_year + 1))\n",
    "    actual_years = set(years)\n",
    "    missing_years = expected_years - actual_years\n",
    "    has_missing_years = len(missing_years) > 0\n",
    "\n",
    "    print(f\"Model Directory: {model_dir}\")\n",
    "    print(f\"Start Year: {start_year}\")\n",
    "    print(f\"End Year: {end_year}\")\n",
    "    print(f\"Number of Years: {num_years}\")\n",
    "    print(f\"Missing Years: {sorted(missing_years)}\")\n",
    "    print(f\"Has Missing Years: {has_missing_years}\")\n",
    "    print()"
   ]
  },
  {
   "cell_type": "code",
   "execution_count": 4,
   "metadata": {},
   "outputs": [
    {
     "ename": "FileNotFoundError",
     "evalue": "[Errno 2] No such file or directory: '/beegfs/CMIP6/arctic-cmip6/cmip6_fwi'",
     "output_type": "error",
     "traceback": [
      "\u001b[0;31m---------------------------------------------------------------------------\u001b[0m",
      "\u001b[0;31mFileNotFoundError\u001b[0m                         Traceback (most recent call last)",
      "Cell \u001b[0;32mIn[4], line 3\u001b[0m\n\u001b[1;32m      1\u001b[0m \u001b[38;5;66;03m# run the check for each model subdirectory in the data directory\u001b[39;00m\n\u001b[0;32m----> 3\u001b[0m \u001b[38;5;28;01mfor\u001b[39;00m model_subdir \u001b[38;5;129;01min\u001b[39;00m os\u001b[38;5;241m.\u001b[39mlistdir(data_dir):\n\u001b[1;32m      4\u001b[0m     model_path \u001b[38;5;241m=\u001b[39m os\u001b[38;5;241m.\u001b[39mpath\u001b[38;5;241m.\u001b[39mjoin(data_dir, model_subdir)\n\u001b[1;32m      5\u001b[0m     check_model_years(model_path)\n",
      "\u001b[0;31mFileNotFoundError\u001b[0m: [Errno 2] No such file or directory: '/beegfs/CMIP6/arctic-cmip6/cmip6_fwi'"
     ]
    }
   ],
   "source": [
    "# run the check for each model subdirectory in the data directory\n",
    "\n",
    "for model_subdir in os.listdir(data_dir):\n",
    "    model_path = os.path.join(data_dir, model_subdir)\n",
    "    check_model_years(model_path)"
   ]
  },
  {
   "cell_type": "code",
   "execution_count": null,
   "metadata": {},
   "outputs": [],
   "source": []
  }
 ],
 "metadata": {
  "kernelspec": {
   "display_name": "snap-geo",
   "language": "python",
   "name": "python3"
  },
  "language_info": {
   "codemirror_mode": {
    "name": "ipython",
    "version": 3
   },
   "file_extension": ".py",
   "mimetype": "text/x-python",
   "name": "python",
   "nbconvert_exporter": "python",
   "pygments_lexer": "ipython3",
   "version": "3.11.6"
  }
 },
 "nbformat": 4,
 "nbformat_minor": 2
}
